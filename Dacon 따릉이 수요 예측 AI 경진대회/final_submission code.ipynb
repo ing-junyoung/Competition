{
 "cells": [
  {
   "cell_type": "markdown",
   "id": "70740c10",
   "metadata": {},
   "source": [
    "# Module import"
   ]
  },
  {
   "cell_type": "code",
   "execution_count": 1,
   "id": "a58a950c",
   "metadata": {},
   "outputs": [],
   "source": [
    "import pandas as pd \n",
    "import numpy as np \n",
    "import warnings \n",
    "import sys\n",
    "import platform\n",
    "warnings.filterwarnings(action = 'ignore')\n",
    "\n",
    "import matplotlib.pyplot as plt \n",
    "\n",
    "from sklearn.model_selection import KFold\n",
    "from tqdm import tnrange, tqdm_notebook\n",
    "\n",
    "import optuna\n",
    "from optuna.samplers import TPESampler\n",
    "\n",
    "import lightgbm\n",
    "from lightgbm import LGBMRegressor\n",
    "\n",
    "import catboost\n",
    "from catboost import CatBoostRegressor"
   ]
  },
  {
   "cell_type": "code",
   "execution_count": 2,
   "id": "f0edbcb7",
   "metadata": {},
   "outputs": [
    {
     "name": "stdout",
     "output_type": "stream",
     "text": [
      "Windows-10-10.0.19041-SP0\n",
      "3.7.10 (default, Feb 26 2021, 13:06:18) [MSC v.1916 64 bit (AMD64)]\n"
     ]
    }
   ],
   "source": [
    "# 운영체제 및 python 버전\n",
    "print(platform.platform()) \n",
    "print(sys.version)\n",
    "\n",
    "# 패키지 버전은 requirements.txt 파일에 명시\n",
    "# !pip freeze > requirements.txt"
   ]
  },
  {
   "cell_type": "code",
   "execution_count": 5,
   "id": "e5494b7d",
   "metadata": {},
   "outputs": [],
   "source": [
    "# 데이터셋 및 외부 데이터셋 불러오기\n",
    "\n",
    "train_data = pd.read_csv('./dataset/train.csv')\n",
    "train_cl = pd.read_csv('./dataset/train_cl.csv') \n",
    "train_hi = pd.read_csv('./dataset/train_hi.csv') \n",
    "train_pi = pd.read_csv('./dataset/train_pi.csv')\n",
    "train_hr = pd.read_csv('./dataset/train_hr.csv')\n",
    "\n",
    "test_data = pd.read_csv('./dataset/test.csv')\n",
    "test_cl = pd.read_csv('./dataset/test_cl.csv')\n",
    "test_hi = pd.read_csv('./dataset/test_hi.csv')\n",
    "test_pi = pd.read_csv('./dataset/test_pi.csv')\n",
    "test_hr = pd.read_csv('./dataset/test_hr.csv')"
   ]
  },
  {
   "cell_type": "code",
   "execution_count": 6,
   "id": "6a2c8a82",
   "metadata": {},
   "outputs": [],
   "source": [
    "# 데이터셋과 외부 데이터셋을 병합 \n",
    "\n",
    "trainset = pd.merge(train_data, train_cl, on='date')\n",
    "trainset = pd.merge(trainset, train_hi, on='date')\n",
    "trainset = pd.merge(trainset, train_pi, on='date')\n",
    "trainset = pd.merge(trainset, train_hr, on='date', how='left')\n",
    "\n",
    "testset = pd.merge(test_data, test_cl, on='date')\n",
    "testset = pd.merge(testset, test_hi, on='date')\n",
    "testset = pd.merge(testset, test_pi, on='date')\n",
    "testset = pd.merge(testset, test_hr, on='date', how='left')"
   ]
  },
  {
   "cell_type": "code",
   "execution_count": 7,
   "id": "ccd66955",
   "metadata": {},
   "outputs": [],
   "source": [
    "# 결측값 처리\n",
    "trainset['precipitation'] = trainset[\"precipitation\"].replace(np.nan, 0)\n",
    "trainset['hr'] = trainset[\"hr\"].replace(np.nan, 0)\n",
    "trainset[\"PM10\"] = trainset[\"PM10\"].fillna(trainset[\"PM10\"].median())\n",
    "trainset[\"PM2.5\"] = trainset[\"PM2.5\"].fillna(trainset[\"PM2.5\"].median())\n",
    "trainset[\"sunshine_sum\"] = trainset[\"sunshine_sum\"].fillna(trainset[\"sunshine_sum\"].median())\n",
    "trainset[\"pi\"] = trainset[\"pi\"].fillna(trainset[\"pi\"].median())\n",
    "\n",
    "# 테스트 데이터셋의 PM10, PM2.5는 결측값 X\n",
    "testset['precipitation'] = testset[\"precipitation\"].replace(np.nan, 0)\n",
    "testset['hr'] = testset[\"hr\"].replace(np.nan, 0)\n",
    "testset['sunshine_sum'] = testset['sunshine_sum'].fillna(testset['sunshine_sum'].median())\n",
    "testset[\"pi\"] = testset[\"pi\"].fillna(testset[\"pi\"].median())"
   ]
  },
  {
   "cell_type": "code",
   "execution_count": 8,
   "id": "4e1ac469",
   "metadata": {},
   "outputs": [],
   "source": [
    "# 주말 변수 및 불쾌 지수 생성 함수\n",
    "\n",
    "def is_weekend(t):\n",
    "    if t.weekday() >= 5:\n",
    "        return 1\n",
    "    else:\n",
    "        return 0\n",
    "\n",
    "def get_discomfort(humid, min_t, max_t):\n",
    "    temp = (min_t + max_t) / 2 \n",
    "    humid = humid / 100 \n",
    "    \n",
    "    discomfort = 1.8 * temp - 0.558 * (1 - humid) * (1.8*temp - 26) + 32\n",
    "    return discomfort"
   ]
  },
  {
   "cell_type": "code",
   "execution_count": 9,
   "id": "1366b951",
   "metadata": {},
   "outputs": [],
   "source": [
    "# 시간 변수를 추가하기 위한 처리\n",
    "\n",
    "trainset.date = pd.to_datetime(trainset.date)\n",
    "testset.date = pd.to_datetime(testset.date)"
   ]
  },
  {
   "cell_type": "code",
   "execution_count": 10,
   "id": "50097a4e",
   "metadata": {},
   "outputs": [],
   "source": [
    "# 파생변수 생성\n",
    "\n",
    "trainset['weekend'] = trainset.date.apply(lambda t : is_weekend(t))\n",
    "#trainset['dayofyear'] = trainset['date'].dt.dayofyear\n",
    "trainset['Year'] = trainset['date'].dt.year\n",
    "trainset['Month'] = trainset['date'].dt.month\n",
    "#trainset['day'] = trainset['date'].dt.day\n",
    "\n",
    "\n",
    "testset['weekend'] = testset.date.apply(lambda t : is_weekend(t))\n",
    "#testset['dayofyear'] = testset['date'].dt.dayofyear\n",
    "testset[\"Year\"] = testset['date'].dt.year\n",
    "testset['Month'] = testset['date'].dt.month\n",
    "#testset[\"day\"] = testset['date'].dt.day\n",
    "\n",
    "\n",
    "trainset['discomfort'] = [0] * len(trainset)\n",
    "for i in range(len(trainset)):\n",
    "    trainset.discomfort[i] = get_discomfort(trainset.humidity[i], \n",
    "                                            trainset.temp_lowest[i],\n",
    "                                            trainset.temp_highest[i])\n",
    "    \n",
    "testset['discomfort'] = [0] * len(testset)\n",
    "for i in range(len(testset)):\n",
    "    testset.discomfort[i] = get_discomfort(testset.humidity[i], \n",
    "                                           testset.temp_lowest[i],\n",
    "                                           testset.temp_highest[i])"
   ]
  },
  {
   "cell_type": "code",
   "execution_count": 11,
   "id": "9400a672",
   "metadata": {},
   "outputs": [],
   "source": [
    "trainset['rain'] = trainset['precipitation'] * trainset['hr']\n",
    "testset['rain'] = testset['precipitation'] * testset['hr']"
   ]
  },
  {
   "cell_type": "code",
   "execution_count": 12,
   "id": "6bd16c85",
   "metadata": {},
   "outputs": [],
   "source": [
    "# 후진제거법과 비슷한 맥락으로 Feature Drop & Selection   \n",
    "\n",
    "trainset.drop(['date'], axis=1, inplace=True)\n",
    "testset.drop(['date'], axis=1, inplace=True)\n",
    "\n",
    "trainset.drop(['precipitation'], axis=1, inplace=True)\n",
    "testset.drop(['precipitation'], axis=1, inplace=True)\n",
    "\n",
    "trainset.drop(['humidity'], axis=1, inplace=True)\n",
    "testset.drop(['humidity'], axis=1, inplace=True)\n",
    "\n",
    "trainset.drop(['wind_mean'], axis=1, inplace=True)\n",
    "testset.drop(['wind_mean'], axis=1, inplace=True)\n",
    "\n",
    "trainset.drop(['wind_max'], axis=1, inplace=True)\n",
    "testset.drop(['wind_max'], axis=1, inplace=True)"
   ]
  },
  {
   "cell_type": "code",
   "execution_count": 13,
   "id": "83f3b742",
   "metadata": {},
   "outputs": [
    {
     "data": {
      "text/plain": [
       "Year\n",
       "2018    27739.380822\n",
       "2019    52395.464286\n",
       "2020    64767.814208\n",
       "Name: rental, dtype: float64"
      ]
     },
     "execution_count": 13,
     "metadata": {},
     "output_type": "execute_result"
    }
   ],
   "source": [
    "# 연도별 상승률 확인\n",
    "trainset['rental'].groupby(trainset.Year).agg('mean')"
   ]
  },
  {
   "cell_type": "code",
   "execution_count": 14,
   "id": "d8874c2e",
   "metadata": {},
   "outputs": [],
   "source": [
    "# Objective metric \n",
    "\n",
    "def NMAE(true, pred):\n",
    "    score = np.mean(np.abs(true-pred) / true)\n",
    "    return score"
   ]
  },
  {
   "cell_type": "code",
   "execution_count": 15,
   "id": "c7bb3243",
   "metadata": {},
   "outputs": [],
   "source": [
    "# 입력변수 / 타겟변수 분리 \n",
    "Y = trainset['rental'].values\n",
    "trainset.drop(['rental'] , axis = 1 , inplace = True )"
   ]
  },
  {
   "cell_type": "code",
   "execution_count": 16,
   "id": "23a84239",
   "metadata": {},
   "outputs": [
    {
     "name": "stdout",
     "output_type": "stream",
     "text": [
      "Index(['temp_mean', 'temp_highest', 'temp_lowest', 'PM10', 'PM2.5',\n",
      "       'sunshine_sum', 'sunshine_rate', 'cl', 'hi', 'pi', 'hr', 'weekend',\n",
      "       'Year', 'Month', 'discomfort', 'rain'],\n",
      "      dtype='object')\n"
     ]
    }
   ],
   "source": [
    "# 학습에 사용한 변수 확인\n",
    "print(trainset.columns)"
   ]
  },
  {
   "cell_type": "markdown",
   "id": "b9f1d7b3",
   "metadata": {},
   "source": [
    "## LGBM\n",
    "- 일반적으로, 9000개 미만의 데이터에는 사용하는 것을 권장하지 않으나 Ensemble을 통한 성능 향상을 위해 사용"
   ]
  },
  {
   "cell_type": "code",
   "execution_count": 17,
   "id": "bd1e4de8",
   "metadata": {},
   "outputs": [],
   "source": [
    "def lgb_optimization(trial):\n",
    "    score = []\n",
    "    kf = KFold(n_splits = 5 , random_state = 42 , shuffle = True)\n",
    "    for train_fold, test_fold in tqdm_notebook(kf.split(trainset, Y), desc = 'k_fold'):\n",
    "        X_train, X_test, y_train, y_test = trainset.iloc[train_fold], trainset.iloc[test_fold], Y[train_fold], Y[test_fold] \n",
    "        \n",
    "        \n",
    "        # Parameter 범위는 처음에는 넓게, 이후 조금씩 줄여나가는 것을 추천 # \n",
    "\n",
    "        params = {            \n",
    "            \"boosting_type\" : trial.suggest_categorical('boosting_type',['dart']),\n",
    "            \"objective\": \"regression\",\n",
    "            \"metric\": \"mae\",\n",
    "            \"learning_rate\": trial.suggest_uniform('learning_rate', 0.2, 0.99),\n",
    "            \"n_estimators\": trial.suggest_int(\"n_estimators\", 300, 1000, step=10),\n",
    "            \"max_depth\": trial.suggest_int(\"max_depth\", 1, 10),\n",
    "            \"num_leaves\": trial.suggest_int(\"num_leaves\", 2, 256),\n",
    "            \"reg_alpha\": trial.suggest_float(\"reg_alpha\", 1e-3, 1),\n",
    "            \"reg_lambda\": trial.suggest_float(\"reg_lambda\", 1e-3, 1),\n",
    "            \"subsample\": trial.suggest_float(\"subsample\", 0.4, 1.0),\n",
    "            \"subsample_freq\": trial.suggest_int(\"subsample_freq\", 1, 30),\n",
    "            \"colsample_bytree\": trial.suggest_float(\"colsample_bytree\", 0.1, 1.0),\n",
    "            \"min_child_samples\": trial.suggest_int(\"min_child_samples\", 5, 50),\n",
    "            \"max_bin\": trial.suggest_int(\"max_bin\", 50, 100),\n",
    "            \"verbosity\": -1,\n",
    "            \"random_state\": 0\n",
    "        }\n",
    "\n",
    "        model = LGBMRegressor(**params)\n",
    "        model.fit(X_train, y_train)\n",
    "\n",
    "        lgb_cv_pred = model.predict(X_test)\n",
    "        score_cv = NMAE(y_test, lgb_cv_pred)\n",
    "        \n",
    "        score.append(score_cv)\n",
    "    \n",
    "    return np.mean(score)"
   ]
  },
  {
   "cell_type": "code",
   "execution_count": 18,
   "id": "d7f3a5c0",
   "metadata": {
    "scrolled": true
   },
   "outputs": [
    {
     "name": "stderr",
     "output_type": "stream",
     "text": [
      "\u001b[32m[I 2022-07-13 12:37:29,742]\u001b[0m A new study created in memory with name: lgb_parameter_opt\u001b[0m\n"
     ]
    },
    {
     "data": {
      "application/vnd.jupyter.widget-view+json": {
       "model_id": "bec68389744e4a2d9a87e5c2ba4ff25b",
       "version_major": 2,
       "version_minor": 0
      },
      "text/plain": [
       "k_fold: 0it [00:00, ?it/s]"
      ]
     },
     "metadata": {},
     "output_type": "display_data"
    },
    {
     "name": "stderr",
     "output_type": "stream",
     "text": [
      "\u001b[32m[I 2022-07-13 12:37:33,686]\u001b[0m Trial 0 finished with value: 0.199880809436087 and parameters: {'boosting_type': 'dart', 'learning_rate': 0.4958866938894164, 'n_estimators': 970, 'max_depth': 8, 'num_leaves': 154, 'reg_alpha': 0.1568626218019941, 'reg_lambda': 0.15683852581586644, 'subsample': 0.4348501673009197, 'subsample_freq': 26, 'colsample_bytree': 0.6410035105688879, 'min_child_samples': 37, 'max_bin': 51}. Best is trial 0 with value: 0.199880809436087.\u001b[0m\n"
     ]
    },
    {
     "name": "stdout",
     "output_type": "stream",
     "text": [
      "Best NMAE: 0.199880809436087\n"
     ]
    }
   ],
   "source": [
    "sampler = TPESampler(seed=42)\n",
    "optim = optuna.create_study(\n",
    "    study_name=\"lgb_parameter_opt\",\n",
    "    direction=\"minimize\",\n",
    "    sampler=sampler,\n",
    ")\n",
    "optim.optimize(lgb_optimization, n_trials=1) # 실제 Train에서는 10000~99999 사용 \n",
    "print(\"Best NMAE:\", optim.best_value)"
   ]
  },
  {
   "cell_type": "markdown",
   "id": "1cd51cb6",
   "metadata": {},
   "source": [
    "- optuna를 통해 얻은 최적 파라미터를 적용하여 LGBM 학습\n",
    "- 학습된 LGBM을 통해 얻어진 예측값에는 연도별 상승분인 1.3을 곱해줌"
   ]
  },
  {
   "cell_type": "code",
   "execution_count": 19,
   "id": "941c81f4",
   "metadata": {},
   "outputs": [],
   "source": [
    "lgb_params = {'boosting_type': 'dart', 'learning_rate': 0.9305668587147711, 'n_estimators': 430, 'max_depth': 3, 'num_leaves': 50,\n",
    "              'reg_alpha': 0.7143708454159591, 'reg_lambda': 0.2126572020925504, 'subsample': 0.6422263687599375, 'subsample_freq': 26,\n",
    "              'colsample_bytree': 0.30438918101220414,'min_child_samples': 24, 'max_bin': 55}"
   ]
  },
  {
   "cell_type": "code",
   "execution_count": 20,
   "id": "95020d44",
   "metadata": {},
   "outputs": [],
   "source": [
    "model = LGBMRegressor(**lgb_params, random_state=0)\n",
    "model.fit(trainset, Y)\n",
    "lgb_pred = 1.3 * model.predict(testset) # 연도별 상승분 고려"
   ]
  },
  {
   "cell_type": "markdown",
   "id": "9cb550ff",
   "metadata": {},
   "source": [
    "## Catboost"
   ]
  },
  {
   "cell_type": "code",
   "execution_count": 21,
   "id": "cb425f12",
   "metadata": {},
   "outputs": [],
   "source": [
    "def cb_optimization(trial):\n",
    "    score = []\n",
    "    kf = KFold(n_splits = 5 , random_state = 42 , shuffle = True)\n",
    "    for train_fold, test_fold in tqdm_notebook(kf.split(trainset, Y), desc = 'k_fold'):\n",
    "        X_train, X_test, y_train, y_test = trainset.iloc[train_fold], trainset.iloc[test_fold], Y[train_fold], Y[test_fold] \n",
    "        \n",
    "        # Parameter 범위는 처음에는 넓게, 이후 조금씩 줄여나가는 것을 추천 # \n",
    "        \n",
    "        params = {\n",
    "            'iterations':trial.suggest_int(\"iterations\", 100, 300),\n",
    "            'learning_rate' : trial.suggest_uniform('learning_rate',0.1, 1),\n",
    "            'depth': trial.suggest_int('depth',1, 15),\n",
    "            'min_data_in_leaf': trial.suggest_int('min_data_in_leaf',1,30),\n",
    "            'reg_lambda': trial.suggest_uniform('reg_lambda',1,100),\n",
    "            'subsample': trial.suggest_uniform('subsample',0.3,1),\n",
    "            'random_strength': trial.suggest_uniform('random_strength',10,100),\n",
    "            'od_wait':trial.suggest_int('od_wait', 10, 150),\n",
    "            'leaf_estimation_iterations': trial.suggest_int('leaf_estimation_iterations',1,15),\n",
    "            'bagging_temperature' :trial.suggest_loguniform('bagging_temperature', 1, 100),\n",
    "            \"colsample_bylevel\": trial.suggest_float(\"colsample_bylevel\", 0., 1.0),\n",
    "            'random_state' : 0,\n",
    "            'verbose' : 0,\n",
    "        }\n",
    "\n",
    "\n",
    "        model = CatBoostRegressor(**params)\n",
    "        model.fit(X_train, y_train)\n",
    "\n",
    "        cb_cv_pred = model.predict(X_test)\n",
    "        score_cv = NMAE(y_test, cb_cv_pred)\n",
    "        \n",
    "        score.append(score_cv)\n",
    "    \n",
    "    return np.mean(score)"
   ]
  },
  {
   "cell_type": "code",
   "execution_count": 22,
   "id": "6cc0d7fb",
   "metadata": {
    "scrolled": true
   },
   "outputs": [
    {
     "name": "stderr",
     "output_type": "stream",
     "text": [
      "\u001b[32m[I 2022-07-13 12:37:45,459]\u001b[0m A new study created in memory with name: cat_parameter_opt\u001b[0m\n"
     ]
    },
    {
     "data": {
      "application/vnd.jupyter.widget-view+json": {
       "model_id": "b5dd8fb046f944029504ab8354fa6b35",
       "version_major": 2,
       "version_minor": 0
      },
      "text/plain": [
       "k_fold: 0it [00:00, ?it/s]"
      ]
     },
     "metadata": {},
     "output_type": "display_data"
    },
    {
     "name": "stderr",
     "output_type": "stream",
     "text": [
      "\u001b[32m[I 2022-07-13 12:37:46,238]\u001b[0m Trial 0 finished with value: 0.3795424964193911 and parameters: {'iterations': 175, 'learning_rate': 0.9556428757689246, 'depth': 11, 'min_data_in_leaf': 18, 'reg_lambda': 16.445845403801215, 'subsample': 0.40919616423534183, 'random_strength': 15.227525095137953, 'od_wait': 132, 'leaf_estimation_iterations': 10, 'bagging_temperature': 26.070247583707673, 'colsample_bylevel': 0.020584494295802447}. Best is trial 0 with value: 0.3795424964193911.\u001b[0m\n"
     ]
    },
    {
     "name": "stdout",
     "output_type": "stream",
     "text": [
      "Best NMAE: 0.3795424964193911\n"
     ]
    }
   ],
   "source": [
    "sampler = TPESampler(seed=42)\n",
    "optim = optuna.create_study(\n",
    "    study_name=\"cat_parameter_opt\",\n",
    "    direction=\"minimize\",\n",
    "    sampler=sampler,\n",
    ")\n",
    "optim.optimize(cb_optimization, n_trials=1) # 실제 Train에서는 10000~99999 사용 \n",
    "print(\"Best NMAE:\", optim.best_value)"
   ]
  },
  {
   "cell_type": "markdown",
   "id": "44a8d930",
   "metadata": {},
   "source": [
    "- optuna를 통해 얻은 최적 파라미터를 적용하여 Catboost 학습\n",
    "- 학습된 Catboost를 통해 얻어진 예측값에는 연도별 상승분인 1.3을 곱해줌"
   ]
  },
  {
   "cell_type": "code",
   "execution_count": 23,
   "id": "29b670c8",
   "metadata": {},
   "outputs": [],
   "source": [
    "cb_params =  {'iterations': 211, 'learning_rate': 0.24350940859355197, 'depth': 4, 'min_data_in_leaf': 2, \n",
    "              'reg_lambda': 1.040705111917935, 'subsample': 0.785934155848345, 'random_strength': 97.44420477152384,\n",
    "              'od_wait': 58, 'leaf_estimation_iterations': 12, 'bagging_temperature': 1.5852176785194976, \n",
    "              'colsample_bylevel': 0.7255622371880818}"
   ]
  },
  {
   "cell_type": "code",
   "execution_count": 24,
   "id": "74c8c29c",
   "metadata": {},
   "outputs": [],
   "source": [
    "model = CatBoostRegressor(**cb_params, random_state=0, verbose=0)\n",
    "model.fit(trainset, Y)\n",
    "cb_pred = 1.3 * model.predict(testset) # 연도별 상승분 고려"
   ]
  },
  {
   "cell_type": "markdown",
   "id": "1ab71820",
   "metadata": {},
   "source": [
    "# Ensemble : Averaging\n",
    "- 각 모델의 결과값들을 평균내는 에버리징 앙상블 방법을 적용\n",
    "- 이외에도 XGB, NN, ExtraTree, Randomforest 등 다양한 모델을 최적화\n",
    "    - 최종적으로 사용한 LGBM과 Catboost에 비해 CV 성능이 현저히 낮아 2가지 모델만 에버리징"
   ]
  },
  {
   "cell_type": "code",
   "execution_count": 25,
   "id": "8583fc0f",
   "metadata": {},
   "outputs": [],
   "source": [
    "ensemble_pred = (lgb_pred + cb_pred) / 2"
   ]
  },
  {
   "cell_type": "markdown",
   "id": "be0bdd37",
   "metadata": {},
   "source": [
    "# 후처리\n",
    "- \"학습에 사용하지 않은 변수\"인 \"강수량\"을 활용하여 전체 Output에 \"일괄적인 후처리\"가 가능할 것이라고 판단"
   ]
  },
  {
   "cell_type": "code",
   "execution_count": 26,
   "id": "d41e348c",
   "metadata": {},
   "outputs": [],
   "source": [
    "# 데이터셋 다시 불러오기\n",
    "train_data = pd.read_csv('./dataset/train.csv')\n",
    "test_data = pd.read_csv('./dataset/test.csv')\n",
    "\n",
    "train_data['precipitation'] = train_data[\"precipitation\"].replace(np.nan, 0)\n",
    "test_data['precipitation'] = test_data[\"precipitation\"].replace(np.nan, 0)"
   ]
  },
  {
   "cell_type": "markdown",
   "id": "6c1fa5b6",
   "metadata": {},
   "source": [
    "### EDA\n",
    "- 비가 오면 확실히 대여량이 크게 감소함\n",
    "- 연도에 따라 이용객이 증가했더라도, 비가 오는날은 모두가 동일하게 타지 않을거라고 생각한뒤 이를 확인"
   ]
  },
  {
   "cell_type": "code",
   "execution_count": 27,
   "id": "7e1f687c",
   "metadata": {},
   "outputs": [
    {
     "data": {
      "text/plain": [
       "<matplotlib.lines.Line2D at 0x1838387d048>"
      ]
     },
     "execution_count": 27,
     "metadata": {},
     "output_type": "execute_result"
    },
    {
     "data": {
      "image/png": "[encoded data removed]",
      "text/plain": [
       "<Figure size 432x288 with 1 Axes>"
      ]
     },
     "metadata": {
      "needs_background": "light"
     },
     "output_type": "display_data"
    }
   ],
   "source": [
    "plt.scatter(train_data['precipitation'], train_data['rental'])\n",
    "plt.axvline(x=3, color='k')\n",
    "plt.axvline(x=15, color='k')"
   ]
  },
  {
   "cell_type": "markdown",
   "id": "defd597c",
   "metadata": {},
   "source": [
    "- 비가 많이오면(기상청 기준 15mm 이상) 확실히 대여량이 크게 감소함 : 0.56배\n",
    "- 보통비(3~15mm) 또한 0.63배로 대여량이 감소 \n",
    "- 그럼에도 기준을 15 mm 이상으로 잡은 이유\n",
    "    - 소나기의 경우 지속시간이 짧기에 강수량이 낮아 보통비(3~15) 범위에 포함된다고 판단\n",
    "    - 지속시간이 짧으면 수요량에도 크게 영향이 없다고 추측할 수 있음\n",
    "    - 따라서 확실한 15 이상 날을 대상으로 후처리"
   ]
  },
  {
   "cell_type": "code",
   "execution_count": 28,
   "id": "a30efffc",
   "metadata": {},
   "outputs": [
    {
     "name": "stdout",
     "output_type": "stream",
     "text": [
      "0.5127938523958275\n",
      "0.6033274414659593\n"
     ]
    }
   ],
   "source": [
    "print(train_data.loc[train_data['precipitation'] > 15, 'rental'].mean() / train_data.loc[train_data['precipitation'] <= 15, 'rental'].mean())\n",
    "print(train_data.loc[train_data['precipitation'] > 3, 'rental'].mean() / train_data.loc[train_data['precipitation'] <= 3, 'rental'].mean())"
   ]
  },
  {
   "cell_type": "markdown",
   "id": "3d716250",
   "metadata": {},
   "source": [
    "- 강수량 15mm 이상의 날에는 연도별 상승분을 곱하지 않음"
   ]
  },
  {
   "cell_type": "code",
   "execution_count": 29,
   "id": "311abe06",
   "metadata": {},
   "outputs": [],
   "source": [
    "test_data['rental_pred'] = np.round(ensemble_pred) # 에버리징 값을 테스트 데이터셋과 병합\n",
    "test_data.loc[test_data['precipitation'] > 15, 'rental_pred'] = test_data.loc[test_data['precipitation']> 15, 'rental_pred'] / 1.3"
   ]
  },
  {
   "cell_type": "markdown",
   "id": "b47c6a12",
   "metadata": {},
   "source": [
    "# 제출 파일 생성"
   ]
  },
  {
   "cell_type": "code",
   "execution_count": 30,
   "id": "71c0a94a",
   "metadata": {},
   "outputs": [
    {
     "data": {
      "text/html": [
       "<div>\n",
       "<style scoped>\n",
       "    .dataframe tbody tr th:only-of-type {\n",
       "        vertical-align: middle;\n",
       "    }\n",
       "\n",
       "    .dataframe tbody tr th {\n",
       "        vertical-align: top;\n",
       "    }\n",
       "\n",
       "    .dataframe thead th {\n",
       "        text-align: right;\n",
       "    }\n",
       "</style>\n",
       "<table border=\"1\" class=\"dataframe\">\n",
       "  <thead>\n",
       "    <tr style=\"text-align: right;\">\n",
       "      <th></th>\n",
       "      <th>date</th>\n",
       "      <th>rental</th>\n",
       "    </tr>\n",
       "  </thead>\n",
       "  <tbody>\n",
       "    <tr>\n",
       "      <th>0</th>\n",
       "      <td>2021-01-01</td>\n",
       "      <td>24425.0</td>\n",
       "    </tr>\n",
       "    <tr>\n",
       "      <th>1</th>\n",
       "      <td>2021-01-02</td>\n",
       "      <td>17554.0</td>\n",
       "    </tr>\n",
       "    <tr>\n",
       "      <th>2</th>\n",
       "      <td>2021-01-03</td>\n",
       "      <td>12850.0</td>\n",
       "    </tr>\n",
       "    <tr>\n",
       "      <th>3</th>\n",
       "      <td>2021-01-04</td>\n",
       "      <td>26879.0</td>\n",
       "    </tr>\n",
       "    <tr>\n",
       "      <th>4</th>\n",
       "      <td>2021-01-05</td>\n",
       "      <td>22378.0</td>\n",
       "    </tr>\n",
       "    <tr>\n",
       "      <th>...</th>\n",
       "      <td>...</td>\n",
       "      <td>...</td>\n",
       "    </tr>\n",
       "    <tr>\n",
       "      <th>360</th>\n",
       "      <td>2021-12-27</td>\n",
       "      <td>36758.0</td>\n",
       "    </tr>\n",
       "    <tr>\n",
       "      <th>361</th>\n",
       "      <td>2021-12-28</td>\n",
       "      <td>40185.0</td>\n",
       "    </tr>\n",
       "    <tr>\n",
       "      <th>362</th>\n",
       "      <td>2021-12-29</td>\n",
       "      <td>50382.0</td>\n",
       "    </tr>\n",
       "    <tr>\n",
       "      <th>363</th>\n",
       "      <td>2021-12-30</td>\n",
       "      <td>46400.0</td>\n",
       "    </tr>\n",
       "    <tr>\n",
       "      <th>364</th>\n",
       "      <td>2021-12-31</td>\n",
       "      <td>39425.0</td>\n",
       "    </tr>\n",
       "  </tbody>\n",
       "</table>\n",
       "<p>365 rows × 2 columns</p>\n",
       "</div>"
      ],
      "text/plain": [
       "           date   rental\n",
       "0    2021-01-01  24425.0\n",
       "1    2021-01-02  17554.0\n",
       "2    2021-01-03  12850.0\n",
       "3    2021-01-04  26879.0\n",
       "4    2021-01-05  22378.0\n",
       "..          ...      ...\n",
       "360  2021-12-27  36758.0\n",
       "361  2021-12-28  40185.0\n",
       "362  2021-12-29  50382.0\n",
       "363  2021-12-30  46400.0\n",
       "364  2021-12-31  39425.0\n",
       "\n",
       "[365 rows x 2 columns]"
      ]
     },
     "execution_count": 30,
     "metadata": {},
     "output_type": "execute_result"
    }
   ],
   "source": [
    "sample_submission = pd.read_csv('./dataset/sample_submission.csv')\n",
    "sample_submission[\"rental\"] = test_data['rental_pred']\n",
    "sample_submission"
   ]
  },
  {
   "cell_type": "code",
   "execution_count": 31,
   "id": "6696da03",
   "metadata": {},
   "outputs": [],
   "source": [
    "sample_submission.to_csv('[이전끝]final_submission.csv', index=False)"
   ]
  }
 ],
 "metadata": {
  "kernelspec": {
   "display_name": "Python 3 (ipykernel)",
   "language": "python",
   "name": "python3"
  },
  "language_info": {
   "codemirror_mode": {
    "name": "ipython",
    "version": 3
   },
   "file_extension": ".py",
   "mimetype": "text/x-python",
   "name": "python",
   "nbconvert_exporter": "python",
   "pygments_lexer": "ipython3",
   "version": "3.7.10"
  }
 },
 "nbformat": 4,
 "nbformat_minor": 5
}
